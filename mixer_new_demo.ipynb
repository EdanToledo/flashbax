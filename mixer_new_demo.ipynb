{
 "cells": [
  {
   "cell_type": "code",
   "execution_count": 1,
   "metadata": {},
   "outputs": [],
   "source": [
    "import flashbax as fbx\n",
    "import jax.numpy as jnp\n",
    "from jax.tree_util import tree_map\n",
    "import jax"
   ]
  },
  {
   "cell_type": "code",
   "execution_count": 2,
   "metadata": {},
   "outputs": [],
   "source": [
    "key = jax.random.PRNGKey(0)"
   ]
  },
  {
   "cell_type": "code",
   "execution_count": 3,
   "metadata": {},
   "outputs": [
    {
     "name": "stdout",
     "output_type": "stream",
     "text": [
      "1500\n"
     ]
    },
    {
     "data": {
      "text/plain": [
       "TrajectoryBufferState(experience={'acts': (1, 10000, 3), 'obs': (1, 10000, 2)}, current_index=(), is_full=())"
      ]
     },
     "execution_count": 3,
     "metadata": {},
     "output_type": "execute_result"
    }
   ],
   "source": [
    "buffer_a = fbx.make_trajectory_buffer(\n",
    "    add_batch_size=1,\n",
    "    max_length_time_axis=10_000,\n",
    "    min_length_time_axis=5,\n",
    "    sample_sequence_length=5,\n",
    "    period=1,\n",
    "    sample_batch_size=2,\n",
    ")\n",
    "\n",
    "timestep = {\n",
    "    \"obs\": jnp.ones((2)),\n",
    "    \"acts\": jnp.ones(3),\n",
    "}\n",
    "\n",
    "state_a = buffer_a.init(\n",
    "    timestep,\n",
    ")\n",
    "for i in range(1500):\n",
    "    state_a = buffer_a.add(\n",
    "        state_a,\n",
    "        tree_map(lambda x, _i=i: (x * _i)[None, None, ...], timestep),\n",
    "    )\n",
    "\n",
    "print(state_a.current_index)\n",
    "tree_map(lambda x: x.shape, state_a)"
   ]
  },
  {
   "cell_type": "code",
   "execution_count": 4,
   "metadata": {},
   "outputs": [
    {
     "name": "stdout",
     "output_type": "stream",
     "text": [
      "6000\n"
     ]
    },
    {
     "data": {
      "text/plain": [
       "TrajectoryBufferState(experience={'acts': (1, 10000, 3), 'obs': (1, 10000, 2)}, current_index=(), is_full=())"
      ]
     },
     "execution_count": 4,
     "metadata": {},
     "output_type": "execute_result"
    }
   ],
   "source": [
    "buffer_b = fbx.make_trajectory_buffer(\n",
    "    add_batch_size=1,\n",
    "    max_length_time_axis=10_000,\n",
    "    min_length_time_axis=5,\n",
    "    sample_sequence_length=5,\n",
    "    period=1,\n",
    "    sample_batch_size=13,\n",
    ")\n",
    "\n",
    "timestep = {\n",
    "    \"obs\": jnp.ones((2)),\n",
    "    \"acts\": jnp.ones(3),\n",
    "}\n",
    "\n",
    "state_b = buffer_b.init(\n",
    "    timestep,\n",
    ")\n",
    "for i in range(6000):\n",
    "    state_b = buffer_b.add(\n",
    "        state_b,\n",
    "        tree_map(lambda x, _i=i: (1000 - x * _i)[None, None, ...], timestep),\n",
    "    )\n",
    "\n",
    "print(state_b.current_index)\n",
    "tree_map(lambda x: x.shape, state_b)"
   ]
  },
  {
   "cell_type": "code",
   "execution_count": 5,
   "metadata": {},
   "outputs": [
    {
     "name": "stdout",
     "output_type": "stream",
     "text": [
      "(2, 5, 3)\n",
      "(13, 5, 3)\n"
     ]
    }
   ],
   "source": [
    "sample_a = buffer_a.sample(state_a, key)\n",
    "print(sample_a.experience['acts'].shape)\n",
    "\n",
    "sample_b = buffer_b.sample(state_b, key)\n",
    "print(sample_b.experience['acts'].shape)"
   ]
  },
  {
   "cell_type": "code",
   "execution_count": 6,
   "metadata": {},
   "outputs": [],
   "source": [
    "mixer = fbx.make_mixer(\n",
    "    buffers=[buffer_a, buffer_b],\n",
    "    sample_batch_size=8,\n",
    "    proportions=[2,3]\n",
    ")"
   ]
  },
  {
   "cell_type": "code",
   "execution_count": 7,
   "metadata": {},
   "outputs": [
    {
     "data": {
      "text/plain": [
       "(6, 5, 3)"
      ]
     },
     "execution_count": 7,
     "metadata": {},
     "output_type": "execute_result"
    }
   ],
   "source": [
    "joint_sample = mixer.sample(\n",
    "    [state_a, state_b],\n",
    "    key,\n",
    ")\n",
    "\n",
    "joint_sample.experience['acts'].shape"
   ]
  },
  {
   "cell_type": "code",
   "execution_count": 8,
   "metadata": {},
   "outputs": [],
   "source": [
    "mixer = fbx.make_mixer(\n",
    "    buffers=[buffer_a, buffer_b],\n",
    "    sample_batch_size=8,\n",
    "    proportions=[0.1, 0.9]\n",
    ")"
   ]
  },
  {
   "cell_type": "code",
   "execution_count": 9,
   "metadata": {},
   "outputs": [
    {
     "data": {
      "text/plain": [
       "(8, 5, 3)"
      ]
     },
     "execution_count": 9,
     "metadata": {},
     "output_type": "execute_result"
    }
   ],
   "source": [
    "joint_sample = mixer.sample(\n",
    "    [state_a, state_b],\n",
    "    key,\n",
    ")\n",
    "\n",
    "joint_sample.experience['acts'].shape"
   ]
  },
  {
   "cell_type": "code",
   "execution_count": null,
   "metadata": {},
   "outputs": [],
   "source": []
  }
 ],
 "metadata": {
  "kernelspec": {
   "display_name": "flashbax",
   "language": "python",
   "name": "python3"
  },
  "language_info": {
   "codemirror_mode": {
    "name": "ipython",
    "version": 3
   },
   "file_extension": ".py",
   "mimetype": "text/x-python",
   "name": "python",
   "nbconvert_exporter": "python",
   "pygments_lexer": "ipython3",
   "version": "3.9.16"
  }
 },
 "nbformat": 4,
 "nbformat_minor": 2
}
